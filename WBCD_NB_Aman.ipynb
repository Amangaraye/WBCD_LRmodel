{
  "nbformat": 4,
  "nbformat_minor": 0,
  "metadata": {
    "colab": {
      "name": "BreastCancerDiagnostic_NaiveBayes_AmanpreetKaur.ipynb",
      "provenance": []
    },
    "kernelspec": {
      "name": "python3",
      "display_name": "Python 3"
    },
    "language_info": {
      "name": "python"
    }
  },
  "cells": [
    {
      "cell_type": "code",
      "metadata": {
        "id": "v805Z1E7GG6B"
      },
      "source": [
        "# Import all the required Packages\n",
        "\n",
        "import pandas as pd \n",
        "import numpy as np \n",
        "import matplotlib.pyplot as plt\n",
        "from sklearn.model_selection import train_test_split\n",
        "from sklearn.linear_model import LogisticRegression\n",
        "from sklearn.datasets import load_breast_cancer\n",
        "from sklearn.metrics import confusion_matrix\n",
        "from sklearn.metrics import classification_report \n",
        "from sklearn.model_selection import  cross_val_score\n",
        "from sklearn.metrics import accuracy_score\n",
        "from sklearn.naive_bayes import GaussianNB\n",
        "import time"
      ],
      "execution_count": 3,
      "outputs": []
    },
    {
      "cell_type": "code",
      "metadata": {
        "id": "TdOi-YeuGOyf"
      },
      "source": [
        "# loading th model\n",
        "X, y = load_breast_cancer(return_X_y=True)"
      ],
      "execution_count": 4,
      "outputs": []
    },
    {
      "cell_type": "code",
      "metadata": {
        "id": "T538uizSG9Fr"
      },
      "source": [
        "#Splitting the dataset into training and testing sets\n",
        "X_train, X_test, y_train, y_test = train_test_split(X, y, test_size=0.3, random_state=16)\n",
        "print(X_train.shape)\n",
        "print(y_train.shape)\n",
        "print(X_test.shape)\n",
        "print(y_test.shape)\n",
        "accuracy_all = []\n",
        "cvs_all = []"
      ],
      "execution_count": null,
      "outputs": []
    },
    {
      "cell_type": "code",
      "metadata": {
        "colab": {
          "base_uri": "https://localhost:8080/"
        },
        "id": "yJDLmglJGxqY",
        "outputId": "a4f5fd05-92c7-479f-997d-e84eee38e463"
      },
      "source": [
        "start = time.time()\n",
        "\n",
        "clf = GaussianNB()\n",
        "clf.fit(X_train, y_train)\n",
        "prediction = clf.predict(X_test)\n",
        "scores = cross_val_score(clf, X, y, cv=5)\n",
        "end = time.time()\n",
        "\n",
        "accuracy_all.append(accuracy_score(prediction, y_test))\n",
        "cvs_all.append(np.mean(scores))\n",
        "\n",
        "print(\"Accuracy: {0:.2%}\".format(accuracy_score(prediction, y_test)))\n",
        "print(\"Cross validation score: {0:.2%} (+/- {1:.2%})\".format(np.mean(scores), np.std(scores)*2))\n",
        "print(\"Execution time: {0:.5} seconds \\n\".format(end-start))"
      ],
      "execution_count": 11,
      "outputs": [
        {
          "output_type": "stream",
          "text": [
            "Accuracy: 95.91%\n",
            "Cross validation score: 93.85% (+/- 2.92%)\n",
            "Execution time: 0.011473 seconds \n",
            "\n"
          ],
          "name": "stdout"
        }
      ]
    }
  ]
}