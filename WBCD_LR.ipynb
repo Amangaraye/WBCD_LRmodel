{
  "nbformat": 4,
  "nbformat_minor": 0,
  "metadata": {
    "colab": {
      "name": "BreastCancerDianostic_logisticRegression_Amanpreet.ipynb",
      "provenance": []
    },
    "kernelspec": {
      "name": "python3",
      "display_name": "Python 3"
    },
    "language_info": {
      "name": "python"
    }
  },
  "cells": [
    {
      "cell_type": "code",
      "metadata": {
        "id": "H7jaTuqA1tlT"
      },
      "source": [
        "# Import all the required Packages\n",
        "\n",
        "import pandas as pd \n",
        "import numpy as np \n",
        "import matplotlib.pyplot as plt\n",
        "from sklearn.model_selection import train_test_split\n",
        "from sklearn.linear_model import LogisticRegression\n",
        "from sklearn.datasets import load_breast_cancer\n",
        "from sklearn.metrics import confusion_matrix\n",
        "from sklearn.metrics import classification_report \n"
      ],
      "execution_count": 13,
      "outputs": []
    },
    {
      "cell_type": "code",
      "metadata": {
        "colab": {
          "base_uri": "https://localhost:8080/"
        },
        "id": "sAccwJOn9C00",
        "outputId": "5ad36029-3e12-47e0-e552-12cdd0fec076"
      },
      "source": [
        "\n",
        "# loading th model\n",
        "X, y = load_breast_cancer(return_X_y=True)\n",
        "#Splitting the dataset into training and testing sets\n",
        "X_train, X_test, y_train, y_test = train_test_split(X, y, test_size=0.3, random_state=16)\n",
        "print(X_train.shape)\n",
        "print(y_train.shape)\n",
        "print(X_test.shape)\n",
        "print(y_test.shape)\n",
        "\n",
        "\n"
      ],
      "execution_count": 14,
      "outputs": [
        {
          "output_type": "stream",
          "text": [
            "(398, 30)\n",
            "(398,)\n",
            "(171, 30)\n",
            "(171,)\n"
          ],
          "name": "stdout"
        }
      ]
    },
    {
      "cell_type": "code",
      "metadata": {
        "colab": {
          "base_uri": "https://localhost:8080/"
        },
        "id": "wGGQcT8pCXnF",
        "outputId": "2ebed0f0-25bb-456a-a86e-2ad733740a3a"
      },
      "source": [
        "# creating the model\n",
        "model = LogisticRegression()\n",
        "# fitting the data\n",
        "model.fit(X_train, y_train)\n",
        "\n",
        "\n",
        "y_pred = model.predict(X_test)\n",
        "\n",
        "\n",
        "print(\"Training accuracy :\", model.score(X_train, y_train))\n",
        "print(\"Testing accuarcy :\", model.score(X_test, y_test))\n",
        "\n",
        "# classification report\n",
        "cr = classification_report(y_test, y_pred)\n",
        "print(cr)\n",
        "\n",
        "# confusion matrix \n",
        "cm = confusion_matrix(y_test, y_pred)\n",
        "print(cm)"
      ],
      "execution_count": 15,
      "outputs": [
        {
          "output_type": "stream",
          "text": [
            "Training accuracy : 0.957286432160804\n",
            "Testing accuarcy : 0.9239766081871345\n",
            "              precision    recall  f1-score   support\n",
            "\n",
            "           0       0.92      0.88      0.90        65\n",
            "           1       0.93      0.95      0.94       106\n",
            "\n",
            "    accuracy                           0.92       171\n",
            "   macro avg       0.92      0.91      0.92       171\n",
            "weighted avg       0.92      0.92      0.92       171\n",
            "\n",
            "[[ 57   8]\n",
            " [  5 101]]\n"
          ],
          "name": "stdout"
        },
        {
          "output_type": "stream",
          "text": [
            "/usr/local/lib/python3.7/dist-packages/sklearn/linear_model/_logistic.py:940: ConvergenceWarning: lbfgs failed to converge (status=1):\n",
            "STOP: TOTAL NO. of ITERATIONS REACHED LIMIT.\n",
            "\n",
            "Increase the number of iterations (max_iter) or scale the data as shown in:\n",
            "    https://scikit-learn.org/stable/modules/preprocessing.html\n",
            "Please also refer to the documentation for alternative solver options:\n",
            "    https://scikit-learn.org/stable/modules/linear_model.html#logistic-regression\n",
            "  extra_warning_msg=_LOGISTIC_SOLVER_CONVERGENCE_MSG)\n"
          ],
          "name": "stderr"
        }
      ]
    }
  ]
}